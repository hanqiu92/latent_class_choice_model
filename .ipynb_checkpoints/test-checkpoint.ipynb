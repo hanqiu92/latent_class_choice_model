{
 "cells": [
  {
   "cell_type": "code",
   "execution_count": 44,
   "metadata": {
    "collapsed": true
   },
   "outputs": [],
   "source": [
    "%matplotlib inline\n",
    "\n",
    "import matplotlib.pyplot as plt\n",
    "import numpy as np\n",
    "import pickle\n",
    "\n",
    "cate_name = pickle.load( open( \"data/quebec_category_name.p\", \"rb\" ) )\n",
    "cate_data = pickle.load( open( \"data/quebec_category.p\", \"rb\" ) )\n",
    "shared_data = pickle.load( open( \"data/quebec_shared.p\", \"rb\" ) )\n",
    "numer_data = pickle.load( open( \"data/quebec_numerical.p\", \"rb\" ) )\n",
    "label = pickle.load( open( \"data/quebec_label.p\", \"rb\" ) )\n",
    "classification = pickle.load( open( \"data/classification.p\", \"rb\" ) )"
   ]
  },
  {
   "cell_type": "code",
   "execution_count": 48,
   "metadata": {
    "collapsed": false
   },
   "outputs": [
    {
     "name": "stdout",
     "output_type": "stream",
     "text": [
      "['sector', 'conv_year', 'house_type', 'constr_year', 'own_rent']\n"
     ]
    }
   ],
   "source": [
    "c1 = cate_data[classification[0],:]\n",
    "c2 = cate_data[classification[1],:]\n",
    "print cate_name"
   ]
  },
  {
   "cell_type": "code",
   "execution_count": 46,
   "metadata": {
    "collapsed": false
   },
   "outputs": [],
   "source": [
    "factor = np.array([0.3,-0.077,0.05,-0.107,-0.138,-0.166])\n",
    "s1 = np.matmul(shared_data[classification[0],:],factor)\n",
    "s2 = np.matmul(shared_data[classification[1],:],factor)"
   ]
  },
  {
   "cell_type": "code",
   "execution_count": 47,
   "metadata": {
    "collapsed": false
   },
   "outputs": [
    {
     "data": {
      "text/plain": [
       "(array([ 313.,  190.,  145.,   69.,   51.,   19.,    8.,    7.,    1.,    1.]),\n",
       " array([ 0.00655 ,  0.154945,  0.30334 ,  0.451735,  0.60013 ,  0.748525,\n",
       "         0.89692 ,  1.045315,  1.19371 ,  1.342105,  1.4905  ]),\n",
       " <a list of 10 Patch objects>)"
      ]
     },
     "execution_count": 47,
     "metadata": {},
     "output_type": "execute_result"
    },
    {
     "data": {
      "image/png": "[encoded data removed]",
      "text/plain": [
       "<matplotlib.figure.Figure at 0x1114a8390>"
      ]
     },
     "metadata": {},
     "output_type": "display_data"
    },
    {
     "data": {
      "image/png": "[encoded data removed]",
      "text/plain": [
       "<matplotlib.figure.Figure at 0x1140b5110>"
      ]
     },
     "metadata": {},
     "output_type": "display_data"
    }
   ],
   "source": [
    "n = 0\n",
    "plt.figure(1)\n",
    "plt.hist(s1)\n",
    "plt.figure(2)\n",
    "plt.hist(s2)"
   ]
  },
  {
   "cell_type": "code",
   "execution_count": 50,
   "metadata": {
    "collapsed": false
   },
   "outputs": [
    {
     "data": {
      "text/plain": [
       "(array([  79.,   55.,   28.,   16.,   22.,   25.,   11.,  187.,  189.,  192.]),\n",
       " array([  1. ,   2.1,   3.2,   4.3,   5.4,   6.5,   7.6,   8.7,   9.8,\n",
       "         10.9,  12. ]),\n",
       " <a list of 10 Patch objects>)"
      ]
     },
     "execution_count": 50,
     "metadata": {},
     "output_type": "execute_result"
    },
    {
     "data": {
      "image/png": "[encoded data removed]",
      "text/plain": [
       "<matplotlib.figure.Figure at 0x111076f50>"
      ]
     },
     "metadata": {},
     "output_type": "display_data"
    },
    {
     "data": {
      "image/png": "[encoded data removed]",
      "text/plain": [
       "<matplotlib.figure.Figure at 0x111068410>"
      ]
     },
     "metadata": {},
     "output_type": "display_data"
    }
   ],
   "source": [
    "plt.figure(1)\n",
    "plt.hist(c1[:,3])\n",
    "plt.figure(2)\n",
    "plt.hist(c2[:,3])"
   ]
  },
  {
   "cell_type": "code",
   "execution_count": null,
   "metadata": {
    "collapsed": true
   },
   "outputs": [],
   "source": []
  }
 ],
 "metadata": {
  "kernelspec": {
   "display_name": "Python 2",
   "language": "python",
   "name": "python2"
  },
  "language_info": {
   "codemirror_mode": {
    "name": "ipython",
    "version": 2
   },
   "file_extension": ".py",
   "mimetype": "text/x-python",
   "name": "python",
   "nbconvert_exporter": "python",
   "pygments_lexer": "ipython2",
   "version": "2.7.12"
  }
 },
 "nbformat": 4,
 "nbformat_minor": 0
}
